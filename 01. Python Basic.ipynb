{
 "cells": [
  {
   "cell_type": "markdown",
   "metadata": {},
   "source": [
    "# 1. 객체 지향 프로그래밍"
   ]
  },
  {
   "cell_type": "markdown",
   "metadata": {},
   "source": [
    "객체 지향 프로그래밍(영어: Object-Oriented Programming, OOP)은 컴퓨터 프로그래밍의 패러다임 중 하나이다. 객체 지향 프로그래밍은 컴퓨터 프로그램을 명령어의 목록으로 보는 시각에서 벗어나 여러 개의 독립된 단위, 즉 \"객체\"들의 모임으로 파악하고자 하는 것이다. 각각의 객체는 메시지를 주고받고, 데이터를 처리할 수 있다.\n",
    "\n",
    "객체 지향 프로그래밍은 프로그램을 유연하고 변경이 용이하게 만들기 때문에 대규모 소프트웨어 개발에 많이 사용된다. 또한 프로그래밍을 더 배우기 쉽게 하고 소프트웨어 개발과 보수를 간편하게 하며, 보다 직관적인 코드 분석을 가능하게 하는 장점을 갖고 있다. 그러나 지나친 프로그램의 객체화 경향은 실제 세계의 모습을 그대로 반영하지 못한다는 비판을 받기도 한다."
   ]
  },
  {
   "cell_type": "markdown",
   "metadata": {},
   "source": [
    "![figure](./figure/figure01.png)"
   ]
  },
  {
   "cell_type": "markdown",
   "metadata": {},
   "source": [
    "# 2. 주피터 노트북의 자주 쓰는 단축키"
   ]
  },
  {
   "cell_type": "markdown",
   "metadata": {},
   "source": [
    " 코드실행\n",
    "\n",
    " - **`ctrl + Enter`** : 현재 Cell을 실행한다. \n",
    " - **`shift + Enter`** : 현재 Cell을 실행하고, 다음 Cell로 커서가 이동한다.\n",
    " - 여러 Cell을 실행하고, 한꺼번에 실행할 수 있다"
   ]
  },
  {
   "cell_type": "markdown",
   "metadata": {},
   "source": [
    " Cell 추가하기\n",
    " - **`A`** : Cell을 위에서 추가한다.\n",
    " - **`B`** : Cell을 아래에서 추가한다."
   ]
  },
  {
   "cell_type": "markdown",
   "metadata": {},
   "source": [
    "Cell 속성 변경\n",
    "\n",
    "- **`Y`** : 선택한 셀을 Code입력모드로\n",
    "- **`M`** : 선택한 셀을 마크다운(Markdown)입력모드로\n",
    "- 마크다운 문법 참고 링크: https://gist.github.com/ihoneymon/652be052a0727ad59601"
   ]
  },
  {
   "cell_type": "markdown",
   "metadata": {},
   "source": [
    "셀 복사/붙여넣기 & 삭제하기/되돌리기\n",
    "- **`X`** : 선택한 셀을 잘라내기\n",
    "- **`C`** : 선택한 셀을 복사하기\n",
    "- **`V`** : 복사한 셀을 선택한 셀 아래에 붙여넣기\n",
    "- **`D,D`** : 선택한 셀을 삭제하기\n",
    "- **`Z`** : 시행 되돌리기"
   ]
  },
  {
   "cell_type": "markdown",
   "metadata": {},
   "source": [
    "기타\n",
    "- **`Ctrl + B`** : 디렉토리창 숨기기/보이기\n",
    "- 함수에 커서를 두고 **`Shift + Tab`** : 함수 설명 보기(파라미터 확인할 때 좋습니다)\n",
    "- **`Settings`** :  \n",
    "`JupyterLab Theme`- 테마변경, `Advanced Setting Editer` - 기타 설정 변경 가능\n",
    "- **`Help`**: 각종 Reference들(Python, Numpy, Matplotlib, Pandas 등등)을 확인할 수 있습니다"
   ]
  },
  {
   "cell_type": "markdown",
   "metadata": {},
   "source": [
    "# 3. Python의 간단한 시"
   ]
  },
  {
   "cell_type": "code",
   "execution_count": 1,
   "metadata": {},
   "outputs": [
    {
     "name": "stdout",
     "output_type": "stream",
     "text": [
      "The Zen of Python, by Tim Peters\n",
      "\n",
      "Beautiful is better than ugly.\n",
      "Explicit is better than implicit.\n",
      "Simple is better than complex.\n",
      "Complex is better than complicated.\n",
      "Flat is better than nested.\n",
      "Sparse is better than dense.\n",
      "Readability counts.\n",
      "Special cases aren't special enough to break the rules.\n",
      "Although practicality beats purity.\n",
      "Errors should never pass silently.\n",
      "Unless explicitly silenced.\n",
      "In the face of ambiguity, refuse the temptation to guess.\n",
      "There should be one-- and preferably only one --obvious way to do it.\n",
      "Although that way may not be obvious at first unless you're Dutch.\n",
      "Now is better than never.\n",
      "Although never is often better than *right* now.\n",
      "If the implementation is hard to explain, it's a bad idea.\n",
      "If the implementation is easy to explain, it may be a good idea.\n",
      "Namespaces are one honking great idea -- let's do more of those!\n"
     ]
    }
   ],
   "source": [
    "import this"
   ]
  },
  {
   "cell_type": "markdown",
   "metadata": {},
   "source": [
    "# 4. Package 설치"
   ]
  },
  {
   "cell_type": "markdown",
   "metadata": {},
   "source": [
    "- 아나콘다 프롬포트에서는 **`pip install 패키지명`**\n",
    "- 주피터 노트북에서 **`!pip install 패키지명`**"
   ]
  },
  {
   "cell_type": "markdown",
   "metadata": {},
   "source": [
    "# 5. 자료형"
   ]
  },
  {
   "cell_type": "markdown",
   "metadata": {},
   "source": [
    ">## 수치형\n",
    ">>### 정수형, 실수형, 8진법, 16진법 등등...\n",
    "\n",
    ">## 범주형\n",
    ">>### 순서형 : 학년, 계급, 연령대(10대, 20대, ...) 등등...\n",
    ">>### 명목형 : 성별, 직장, 거주지역 등등..."
   ]
  },
  {
   "cell_type": "markdown",
   "metadata": {},
   "source": [
    "# 6. 정수형 자료"
   ]
  },
  {
   "cell_type": "code",
   "execution_count": 2,
   "metadata": {},
   "outputs": [
    {
     "data": {
      "text/plain": [
       "int"
      ]
     },
     "execution_count": 2,
     "metadata": {},
     "output_type": "execute_result"
    }
   ],
   "source": [
    "# 자료형의 타입을 알려주는 type() 함수\n",
    "type(112)"
   ]
  },
  {
   "cell_type": "code",
   "execution_count": 3,
   "metadata": {},
   "outputs": [
    {
     "name": "stdout",
     "output_type": "stream",
     "text": [
      "<class 'int'>\n",
      "<class 'int'>\n",
      "<class 'int'>\n"
     ]
    }
   ],
   "source": [
    "# 결과값을 출력해주는 print() 함수를 사용하여, 양수, 음수, 0의 자료 Type을 알아보자.\n",
    "print(type(112))\n",
    "print(type(-112))\n",
    "print(type(0))"
   ]
  },
  {
   "cell_type": "code",
   "execution_count": 4,
   "metadata": {},
   "outputs": [
    {
     "name": "stdout",
     "output_type": "stream",
     "text": [
      "<class 'float'>\n",
      "<class 'float'>\n",
      "<class 'float'>\n"
     ]
    }
   ],
   "source": [
    "print(type(3.14))\n",
    "print(type(-1.12))\n",
    "print(type(0.0))"
   ]
  },
  {
   "cell_type": "markdown",
   "metadata": {},
   "source": [
    "# 7. 숫자형 자료의 사칙연산"
   ]
  },
  {
   "cell_type": "code",
   "execution_count": 5,
   "metadata": {},
   "outputs": [
    {
     "name": "stdout",
     "output_type": "stream",
     "text": [
      "a + b의 값은 16 이고 Type은 <class 'int'> 이다.\n"
     ]
    }
   ],
   "source": [
    "# 변수에 11을 저장\n",
    "a = 11\n",
    "\n",
    "# 변수에 5를 저장\n",
    "b = 5\n",
    "\n",
    "print(\"a + b의 값은 {} 이고 Type은 {} 이다.\" .format(a+b, type(a+b)))"
   ]
  },
  {
   "cell_type": "code",
   "execution_count": 6,
   "metadata": {},
   "outputs": [
    {
     "name": "stdout",
     "output_type": "stream",
     "text": [
      "a - c의 값은 5.0 이고 Type은 <class 'float'> 이다.\n"
     ]
    }
   ],
   "source": [
    "c = 6.0\n",
    "\n",
    "print(\"a - c의 값은 {} 이고 Type은 {} 이다.\" .format(a-c, type(a-c)))"
   ]
  },
  {
   "cell_type": "code",
   "execution_count": 7,
   "metadata": {},
   "outputs": [
    {
     "name": "stdout",
     "output_type": "stream",
     "text": [
      "곱셈 : a * b = 30\n",
      "나눗셈 : a / b = 3.3333333333333335\n",
      "제곱 : a ** b = 1000\n"
     ]
    }
   ],
   "source": [
    "a = 10\n",
    "b = 3\n",
    "\n",
    "print(\"곱셈 : a * b = \" + str(a*b))\n",
    "print(\"나눗셈 : a / b = \" + str(a/b))\n",
    "print(\"제곱 : a ** b = \" + str(a**b))"
   ]
  },
  {
   "cell_type": "code",
   "execution_count": 8,
   "metadata": {},
   "outputs": [
    {
     "name": "stdout",
     "output_type": "stream",
     "text": [
      "몫 구하기 : a // b = 3\n",
      "나머지 구하기 : a % b = 1\n"
     ]
    }
   ],
   "source": [
    "a = 10\n",
    "b = 3\n",
    "\n",
    "print(\"몫 구하기 : a // b = \" + str(a//b))\n",
    "print(\"나머지 구하기 : a % b = \" + str(a%b))"
   ]
  },
  {
   "cell_type": "markdown",
   "metadata": {},
   "source": [
    "# 8. 문자형 자료"
   ]
  },
  {
   "cell_type": "code",
   "execution_count": 9,
   "metadata": {},
   "outputs": [
    {
     "name": "stdout",
     "output_type": "stream",
     "text": [
      "Hello World\n"
     ]
    }
   ],
   "source": [
    "print(\"Hello World\")"
   ]
  },
  {
   "cell_type": "code",
   "execution_count": 10,
   "metadata": {},
   "outputs": [
    {
     "name": "stdout",
     "output_type": "stream",
     "text": [
      "Hello의 Type은 <class 'str'> 이다.\n"
     ]
    }
   ],
   "source": [
    "print(\"Hello의 Type은 {} 이다.\" .format(type(\"Hello\")))"
   ]
  },
  {
   "cell_type": "code",
   "execution_count": 11,
   "metadata": {},
   "outputs": [
    {
     "name": "stdout",
     "output_type": "stream",
     "text": [
      "안녕의 Type은 <class 'str'> 이다.\n"
     ]
    }
   ],
   "source": [
    "print(\"안녕의 Type은 {} 이다.\" .format(type(\"안녕\")))"
   ]
  },
  {
   "cell_type": "code",
   "execution_count": 12,
   "metadata": {},
   "outputs": [
    {
     "name": "stdout",
     "output_type": "stream",
     "text": [
      "'Let's start Python!!!'의 Type은 <class 'str'> 이다.\n"
     ]
    }
   ],
   "source": [
    "print(\"'Let's start Python!!!'의 Type은 {} 이다.\" .format(type(\"Let's start Python!!!\")))"
   ]
  },
  {
   "cell_type": "markdown",
   "metadata": {},
   "source": [
    "# 9. 이스케이프 코드"
   ]
  },
  {
   "cell_type": "markdown",
   "metadata": {},
   "source": [
    "**`\\n`** : 문자열 안에서 줄을 바꿀 때 사용\n",
    "\n",
    "**`\\t`** : 문자열 사이에 탭 간격을 줄 때 사용  \n",
    "\n",
    "**`\\\\`** : 문자 \\를 그대로 표현할 때 사용  \n",
    "\n",
    "**`\\'`** : 작은따옴표(')를 그대로 표현할 때 사용  \n",
    "\n",
    "**`\\\"`** : 큰따옴표(\")를 그대로 표현할 때 사용 "
   ]
  },
  {
   "cell_type": "code",
   "execution_count": 13,
   "metadata": {},
   "outputs": [
    {
     "name": "stdout",
     "output_type": "stream",
     "text": [
      "Hello \n",
      " \t 'World' \n",
      "\n"
     ]
    }
   ],
   "source": [
    "print('Hello \\n \\t \\'World\\' \\n')"
   ]
  },
  {
   "cell_type": "markdown",
   "metadata": {},
   "source": [
    "# 10. 문자열의 사칙연산"
   ]
  },
  {
   "cell_type": "code",
   "execution_count": 14,
   "metadata": {},
   "outputs": [
    {
     "name": "stdout",
     "output_type": "stream",
     "text": [
      "백견이불여일타\n"
     ]
    }
   ],
   "source": [
    "a = \"백견이\"\n",
    "b = \"불여일타\"\n",
    "print(a + b)"
   ]
  },
  {
   "cell_type": "code",
   "execution_count": 15,
   "metadata": {},
   "outputs": [
    {
     "name": "stdout",
     "output_type": "stream",
     "text": [
      "영차영차\n",
      "영차영차영차영차영차영차영차영차영차영차\n"
     ]
    }
   ],
   "source": [
    "c = \"영차\"\n",
    "print(c * 2)\n",
    "print(c * 10)"
   ]
  },
  {
   "cell_type": "code",
   "execution_count": 16,
   "metadata": {},
   "outputs": [
    {
     "data": {
      "text/plain": [
       "17"
      ]
     },
     "execution_count": 16,
     "metadata": {},
     "output_type": "execute_result"
    }
   ],
   "source": [
    "# 문자열 길이 구하기\n",
    "string_ = \"Data Science Camp\" \n",
    "\n",
    "# 파이썬의 내장 함수인 len() 은 띄어쓰기를 포함한 문자열의 길이를 반환한다.\n",
    "len(string_)"
   ]
  },
  {
   "cell_type": "code",
   "execution_count": 17,
   "metadata": {},
   "outputs": [
    {
     "data": {
      "text/plain": [
       "'D'"
      ]
     },
     "execution_count": 17,
     "metadata": {},
     "output_type": "execute_result"
    }
   ],
   "source": [
    "# 문자열 인덱싱 : 원하는 특정 문자만 뽑아내기\n",
    "\n",
    "# Python은 \"0\" 부터 시작한다. Python은 기본적으로 [a,b) 구조로 되어 있다.\n",
    "string_[0]"
   ]
  },
  {
   "cell_type": "code",
   "execution_count": 18,
   "metadata": {},
   "outputs": [
    {
     "data": {
      "text/plain": [
       "'p'"
      ]
     },
     "execution_count": 18,
     "metadata": {},
     "output_type": "execute_result"
    }
   ],
   "source": [
    "# 마지막 문자를 출력\n",
    "string_[-1]"
   ]
  },
  {
   "cell_type": "code",
   "execution_count": 19,
   "metadata": {},
   "outputs": [
    {
     "data": {
      "text/plain": [
       "'Science Camp'"
      ]
     },
     "execution_count": 19,
     "metadata": {},
     "output_type": "execute_result"
    }
   ],
   "source": [
    "# 6번째 문자부터 끝까지 출력\n",
    "string_[5:]"
   ]
  },
  {
   "cell_type": "code",
   "execution_count": 20,
   "metadata": {},
   "outputs": [
    {
     "data": {
      "text/plain": [
       "'Data '"
      ]
     },
     "execution_count": 20,
     "metadata": {},
     "output_type": "execute_result"
    }
   ],
   "source": [
    "# 처음부터 5번째까지 출력\n",
    "string_[:5]"
   ]
  },
  {
   "cell_type": "code",
   "execution_count": 21,
   "metadata": {},
   "outputs": [
    {
     "data": {
      "text/plain": [
       "'Science'"
      ]
     },
     "execution_count": 21,
     "metadata": {},
     "output_type": "execute_result"
    }
   ],
   "source": [
    "# Science만 출력하기\n",
    "string_[5:12]"
   ]
  },
  {
   "cell_type": "code",
   "execution_count": 22,
   "metadata": {},
   "outputs": [
    {
     "data": {
      "text/plain": [
       "'Camp'"
      ]
     },
     "execution_count": 22,
     "metadata": {},
     "output_type": "execute_result"
    }
   ],
   "source": [
    "# 뒤에서 4번째부터 끝까지 출력하기\n",
    "string_[-4:]"
   ]
  },
  {
   "cell_type": "markdown",
   "metadata": {},
   "source": [
    "# 11. 리스트 자료형"
   ]
  },
  {
   "cell_type": "code",
   "execution_count": 23,
   "metadata": {},
   "outputs": [],
   "source": [
    "# 여러 가지 구조의 리스트 \n",
    "\n",
    "a = []  # 비어있는 리스트\n",
    "\n",
    "b = [0, 1, 2]   # 숫자형 자료가 들어있는 리스트\n",
    "\n",
    "c = ['Data', 'Science', 'too', 'easy']   # 문자열 자료\n",
    "\n",
    "d = [0, 1, 'Data', 'science'] # 숫자 + 문자열\n",
    "\n",
    "e = [2, 0, ['too', 'easy']]  # 숫자 + 문자열 리스트 - 리스트가 포함된 중첩 리스트 구조"
   ]
  },
  {
   "cell_type": "code",
   "execution_count": 24,
   "metadata": {
    "scrolled": true
   },
   "outputs": [
    {
     "name": "stdout",
     "output_type": "stream",
     "text": [
      "<class 'list'> \n",
      "\n",
      "[] \n",
      "\n",
      "[0, 1, 2] \n",
      "\n",
      "['Data', 'Science', 'too', 'easy'] \n",
      "\n",
      "[0, 1, 'Data', 'science'] \n",
      "\n",
      "[2, 0, ['too', 'easy']] \n",
      "\n"
     ]
    }
   ],
   "source": [
    "print(type(a) ,'\\n')   # 비어있는 리스트의 속성\n",
    "print(a ,'\\n')         # 비어있는 리스트\n",
    "print(b ,'\\n')         # 숫자 리스트\n",
    "print(c ,'\\n')         # 문자 리스트\n",
    "print(d ,'\\n')         # 숫자+문자 리스트\n",
    "print(e ,'\\n')         # 숫자+리스트 리스트"
   ]
  },
  {
   "cell_type": "code",
   "execution_count": 25,
   "metadata": {},
   "outputs": [],
   "source": [
    "# 파이썬에서는 이미 list 라는 함수가 있기 때문에 \n",
    "list_ = ['Data', 'Science', 101, 'Camp']"
   ]
  },
  {
   "cell_type": "code",
   "execution_count": 26,
   "metadata": {},
   "outputs": [
    {
     "data": {
      "text/plain": [
       "4"
      ]
     },
     "execution_count": 26,
     "metadata": {},
     "output_type": "execute_result"
    }
   ],
   "source": [
    "## 리스트 길이 구하기\n",
    "len(list_) "
   ]
  },
  {
   "cell_type": "code",
   "execution_count": 27,
   "metadata": {},
   "outputs": [
    {
     "name": "stdout",
     "output_type": "stream",
     "text": [
      "Science \n",
      "\n",
      "['Science', 101] \n",
      "\n",
      "<class 'str'> \n",
      "\n",
      "<class 'list'>\n"
     ]
    }
   ],
   "source": [
    "## 리스트 인덱싱과 슬라이싱\n",
    "\n",
    "print(list_[1], '\\n')\n",
    "print(list_[1:3], '\\n')\n",
    "\n",
    "### 리스트에서 인덱싱과 슬라이싱을 했을때의 자료 Type! \n",
    "print(type(list_[1]) ,'\\n')\n",
    "print(type(list_[1:3]))"
   ]
  },
  {
   "cell_type": "code",
   "execution_count": 28,
   "metadata": {},
   "outputs": [
    {
     "name": "stdout",
     "output_type": "stream",
     "text": [
      "[1, 2, 3, 1, 2, 3]\n",
      "[1, 2, 3, 'Hello', 'World']\n"
     ]
    }
   ],
   "source": [
    "a = [1, 2, 3]\n",
    "b = ['Hello', 'World']\n",
    "\n",
    "print(a*2)\n",
    "print(a+b)\n",
    "\n",
    "#### 주의 할 점 ####\n",
    "# 아래와 같이 서로 다른 Type 의 자료형을 더해줄 경우에는 Error 가 뜹니다 \n",
    "# 같은 자료 구조 끼리만 연산 가능   ex) 숫자&숫자 , 문자&문자, 리스트&리스트\n",
    "\n",
    "#  print( a[0] + b[1])"
   ]
  },
  {
   "cell_type": "code",
   "execution_count": 29,
   "metadata": {},
   "outputs": [],
   "source": [
    "list_ = [2, 1, 3, 4]"
   ]
  },
  {
   "cell_type": "code",
   "execution_count": 30,
   "metadata": {},
   "outputs": [
    {
     "name": "stdout",
     "output_type": "stream",
     "text": [
      "[2, 1, 3, 4, 5]\n"
     ]
    }
   ],
   "source": [
    "## 리스트에 요소 추가하기 : append\n",
    "list_.append(5)\n",
    "print(list_)"
   ]
  },
  {
   "cell_type": "code",
   "execution_count": 31,
   "metadata": {},
   "outputs": [
    {
     "name": "stdout",
     "output_type": "stream",
     "text": [
      "[2, 'and', 1, 3, 4, 5]\n"
     ]
    }
   ],
   "source": [
    "## 원하는 위치에 요소 삽입하기 : insert\n",
    "list_.insert(1, 'and')\n",
    "print(list_)"
   ]
  },
  {
   "cell_type": "code",
   "execution_count": 32,
   "metadata": {},
   "outputs": [
    {
     "name": "stdout",
     "output_type": "stream",
     "text": [
      "[2, 1, 3, 4, 5]\n"
     ]
    }
   ],
   "source": [
    "## 리스트 요소 제거 : remove\n",
    "# remove(*)는 리스트에서 첫 번째로 나오는 *을 삭제하는 함수입니다\n",
    "list_.remove('and')\n",
    "print(list_)"
   ]
  },
  {
   "cell_type": "code",
   "execution_count": 33,
   "metadata": {},
   "outputs": [
    {
     "name": "stdout",
     "output_type": "stream",
     "text": [
      "[1, 2, 3, 4, 5]\n"
     ]
    }
   ],
   "source": [
    "## 리스트 정렬 : sort\n",
    "list_.sort()\n",
    "print(list_)"
   ]
  },
  {
   "cell_type": "code",
   "execution_count": 34,
   "metadata": {},
   "outputs": [
    {
     "name": "stdout",
     "output_type": "stream",
     "text": [
      "[5, 4, 3, 2, 1]\n"
     ]
    }
   ],
   "source": [
    "## 역순으로 정렬도 할 수 있습니다 \n",
    "### sort 뒤를 클릭 후 shift + tab 을 눌러 보시면  'sort'함수의 value 들을 확인 할 수 있습니다\n",
    "list_.sort(reverse= True)  # 역순을 True 로 설정하면!\n",
    "print( list_) #  거꾸로 배열이 됨을 확인 할 수 있습니다"
   ]
  },
  {
   "cell_type": "markdown",
   "metadata": {},
   "source": [
    "# 12. 튜플 자료형"
   ]
  },
  {
   "cell_type": "code",
   "execution_count": 35,
   "metadata": {},
   "outputs": [],
   "source": [
    "tuple_ = (1,2,3,4)"
   ]
  },
  {
   "cell_type": "code",
   "execution_count": 36,
   "metadata": {},
   "outputs": [],
   "source": [
    "# 5 를 추가하려하자 Error 가 발생!\n",
    "# tuple_.append(5)"
   ]
  },
  {
   "cell_type": "markdown",
   "metadata": {},
   "source": [
    "# 13. 딕셔너리 자료형"
   ]
  },
  {
   "cell_type": "markdown",
   "metadata": {},
   "source": [
    "**이름: 송해**\n",
    "\n",
    "**출생년도 : 1927**\n",
    "\n",
    "**방송 : 전국노래자랑**\n",
    "\n",
    "위 와 같이 대응 되는 구조를 갖는 자료를 딕셔너리 자료형이라고 합니다\n",
    "\n",
    "Key 를 통해 Value를 얻는 구조 입니다.\n",
    "\n",
    "{Key1:Value1, Key2:Value2, Key3:Value3, ...}"
   ]
  },
  {
   "cell_type": "code",
   "execution_count": 37,
   "metadata": {},
   "outputs": [
    {
     "name": "stdout",
     "output_type": "stream",
     "text": [
      "{'name': 'IU', 'age': 27, '인기곡': ['좋은날', '마쉬멜로우', '금요일에 만나요', 23]}\n"
     ]
    }
   ],
   "source": [
    "dic =  { 'name':'IU' , 'age':27 ,'인기곡':['좋은날','마쉬멜로우','금요일에 만나요',23] }\n",
    "print(dic)"
   ]
  },
  {
   "cell_type": "code",
   "execution_count": 38,
   "metadata": {},
   "outputs": [
    {
     "name": "stdout",
     "output_type": "stream",
     "text": [
      "<class 'dict'>\n"
     ]
    }
   ],
   "source": [
    "print(type(dic))"
   ]
  },
  {
   "cell_type": "code",
   "execution_count": 39,
   "metadata": {},
   "outputs": [
    {
     "data": {
      "text/plain": [
       "['좋은날', '마쉬멜로우', '금요일에 만나요', 23]"
      ]
     },
     "execution_count": 39,
     "metadata": {},
     "output_type": "execute_result"
    }
   ],
   "source": [
    "dic['인기곡']"
   ]
  },
  {
   "cell_type": "code",
   "execution_count": 40,
   "metadata": {},
   "outputs": [
    {
     "name": "stdout",
     "output_type": "stream",
     "text": [
      "dict_keys(['name', 'age', '인기곡'])\n"
     ]
    }
   ],
   "source": [
    "print(dic.keys())"
   ]
  },
  {
   "cell_type": "code",
   "execution_count": 41,
   "metadata": {},
   "outputs": [
    {
     "name": "stdout",
     "output_type": "stream",
     "text": [
      "dict_values(['IU', 27, ['좋은날', '마쉬멜로우', '금요일에 만나요', 23]])\n"
     ]
    }
   ],
   "source": [
    "print(dic.values())"
   ]
  },
  {
   "cell_type": "markdown",
   "metadata": {},
   "source": [
    "# 14. 사용자 지정 함수"
   ]
  },
  {
   "cell_type": "code",
   "execution_count": 42,
   "metadata": {},
   "outputs": [
    {
     "data": {
      "text/plain": [
       "3"
      ]
     },
     "execution_count": 42,
     "metadata": {},
     "output_type": "execute_result"
    }
   ],
   "source": [
    "def add(x,y) : \n",
    "    return x + y\n",
    "\n",
    "A = 1\n",
    "B = 2\n",
    "add(A,B)"
   ]
  },
  {
   "cell_type": "code",
   "execution_count": 43,
   "metadata": {},
   "outputs": [
    {
     "name": "stdout",
     "output_type": "stream",
     "text": [
      "야호 야호 야호 야호 야호 야호 야호 야호 야호 야호 \n"
     ]
    }
   ],
   "source": [
    "def shout():\n",
    "    print('야호 '*10)\n",
    "    \n",
    "shout()"
   ]
  },
  {
   "cell_type": "markdown",
   "metadata": {},
   "source": [
    "# 15. 반복문"
   ]
  },
  {
   "cell_type": "code",
   "execution_count": 44,
   "metadata": {},
   "outputs": [
    {
     "name": "stdout",
     "output_type": "stream",
     "text": [
      "현금을 가지고 다녀라\n"
     ]
    }
   ],
   "source": [
    "## 기본적인 if / else 구조 \n",
    "season = '겨울'\n",
    "\n",
    "if season== '겨울':\n",
    "    print('현금을 가지고 다녀라')\n",
    "else:\n",
    "    print('현금 소지는 자유다 ')"
   ]
  },
  {
   "cell_type": "code",
   "execution_count": 45,
   "metadata": {},
   "outputs": [
    {
     "name": "stdout",
     "output_type": "stream",
     "text": [
      "겨울은 한국에 있는 계절입니다.\n"
     ]
    }
   ],
   "source": [
    "seasons = [\"봄\", \"여름\", \"가을\", \"겨울\"]\n",
    "\n",
    "if season in seasons : \n",
    "    print(str(season) + \"은 한국에 있는 계절입니다.\")"
   ]
  },
  {
   "cell_type": "code",
   "execution_count": 46,
   "metadata": {},
   "outputs": [
    {
     "name": "stdout",
     "output_type": "stream",
     "text": [
      "붕어빵에 실패했다\n"
     ]
    }
   ],
   "source": [
    "season = '겨울'\n",
    "cash = 500\n",
    "\n",
    "\n",
    "if season== '겨울':\n",
    "    if cash >= 1000:\n",
    "        print('붕어빵을 사먹을 수 있다')\n",
    "    else:\n",
    "        print('붕어빵에 실패했다')\n",
    "else:\n",
    "    print('현금 소지는 자유다')"
   ]
  },
  {
   "cell_type": "code",
   "execution_count": 47,
   "metadata": {},
   "outputs": [
    {
     "name": "stdout",
     "output_type": "stream",
     "text": [
      "코카콜라\n"
     ]
    }
   ],
   "source": [
    "button = 3\n",
    " \n",
    "if button == 1:\n",
    "    print('레츠비')\n",
    "elif button == 2:\n",
    "    print('웰치스')\n",
    "elif button == 3:\n",
    "    print('코카콜라')\n",
    "else:\n",
    "    print('제공하지 않는 메뉴')"
   ]
  },
  {
   "cell_type": "markdown",
   "metadata": {},
   "source": [
    "# 16. In 함수"
   ]
  },
  {
   "cell_type": "code",
   "execution_count": 48,
   "metadata": {},
   "outputs": [
    {
     "data": {
      "text/plain": [
       "True"
      ]
     },
     "execution_count": 48,
     "metadata": {},
     "output_type": "execute_result"
    }
   ],
   "source": [
    "1 in [1,2,3]"
   ]
  },
  {
   "cell_type": "code",
   "execution_count": 49,
   "metadata": {},
   "outputs": [
    {
     "data": {
      "text/plain": [
       "False"
      ]
     },
     "execution_count": 49,
     "metadata": {},
     "output_type": "execute_result"
    }
   ],
   "source": [
    "1 not in [1,2,3,4]"
   ]
  },
  {
   "cell_type": "code",
   "execution_count": 50,
   "metadata": {},
   "outputs": [
    {
     "data": {
      "text/plain": [
       "True"
      ]
     },
     "execution_count": 50,
     "metadata": {},
     "output_type": "execute_result"
    }
   ],
   "source": [
    "'D' in 'Dacon'"
   ]
  },
  {
   "cell_type": "code",
   "execution_count": 51,
   "metadata": {
    "scrolled": true
   },
   "outputs": [
    {
     "data": {
      "text/plain": [
       "False"
      ]
     },
     "execution_count": 51,
     "metadata": {},
     "output_type": "execute_result"
    }
   ],
   "source": [
    "'d' in 'Dacon'"
   ]
  },
  {
   "cell_type": "markdown",
   "metadata": {},
   "source": [
    "# 17. 반복문 for"
   ]
  },
  {
   "cell_type": "code",
   "execution_count": 52,
   "metadata": {},
   "outputs": [
    {
     "name": "stdout",
     "output_type": "stream",
     "text": [
      "55\n"
     ]
    }
   ],
   "source": [
    "# 가장 기본적인 for 문 구조\n",
    "## 1 부터 10 까지의 숫자를 더하여 봅시다\n",
    "\n",
    "sum1 = 0\n",
    "for i in [1,2,3,4,5,6,7,8,9,10]:\n",
    "    sum1 = sum1 + i\n",
    "print(sum1)"
   ]
  },
  {
   "cell_type": "code",
   "execution_count": 53,
   "metadata": {},
   "outputs": [
    {
     "name": "stdout",
     "output_type": "stream",
     "text": [
      "55\n"
     ]
    }
   ],
   "source": [
    "sum2 = 0\n",
    "for i in range(1,11):\n",
    "    sum2 = sum2 + i\n",
    "print(sum2)"
   ]
  },
  {
   "cell_type": "code",
   "execution_count": 54,
   "metadata": {},
   "outputs": [
    {
     "name": "stdout",
     "output_type": "stream",
     "text": [
      "range(1, 11)\n"
     ]
    }
   ],
   "source": [
    "# range(1,11) 은 1 이상 11미만의 정수\n",
    "print(range(1,11))"
   ]
  },
  {
   "cell_type": "code",
   "execution_count": 55,
   "metadata": {},
   "outputs": [
    {
     "name": "stdout",
     "output_type": "stream",
     "text": [
      "range(1, 10, 2)\n"
     ]
    }
   ],
   "source": [
    "# range(1,10,2) 은  1 부터 2씩 증가하며 10 미만까지의 정수 \n",
    "print(range(1,10,2))"
   ]
  },
  {
   "cell_type": "code",
   "execution_count": 56,
   "metadata": {},
   "outputs": [
    {
     "name": "stdout",
     "output_type": "stream",
     "text": [
      "나는 햄버거가 먹고 싶다\n",
      "나는 피자가 먹고 싶다\n",
      "나는 치킨가 먹고 싶다\n"
     ]
    }
   ],
   "source": [
    "for i in ['햄버거','피자','치킨']:\n",
    "    print('나는 ' + str(i) + '가 먹고 싶다')"
   ]
  },
  {
   "cell_type": "markdown",
   "metadata": {},
   "source": [
    "# 18. 반복문 While"
   ]
  },
  {
   "cell_type": "markdown",
   "metadata": {},
   "source": [
    "`i = 0` 일때 부터 시작하여 `i` 가 1씩 증가되고 있는 것을 볼 수 있죠?  \n",
    "마지막 반복에서 `i=5`일떄  `i`에 1이 더해져 6이 되어 ` i <= 5`라는 \n",
    "\n",
    "조건문에 부합하지 않아   \n",
    "반복문에 멈춘것을 확인 할 수 있습니다. "
   ]
  },
  {
   "cell_type": "code",
   "execution_count": 57,
   "metadata": {
    "scrolled": true
   },
   "outputs": [
    {
     "name": "stdout",
     "output_type": "stream",
     "text": [
      "붕어빵 0 마리\n",
      "붕어빵 1 마리\n",
      "붕어빵 2 마리\n",
      "붕어빵 3 마리\n",
      "붕어빵 4 마리\n",
      "붕어빵 5 마리\n"
     ]
    }
   ],
   "source": [
    "## 가장 기본적인 Whiie 반복문 구조\n",
    "\n",
    "i = 0\n",
    "while i <= 5:\n",
    "    print('붕어빵',i,'마리')\n",
    "    i += 1 # while 과 for 문의 차이 !"
   ]
  },
  {
   "cell_type": "markdown",
   "metadata": {},
   "source": [
    "#### 강제로 while 문 빠져나가기  \n",
    "콜라가 다 떨어 질때까지 공짜로 콜라를 주는 자판기를 코드로 만들어 봅시다.   \n",
    "`while True:`를 통해 무한 루프를 만들어 준 후,  \n",
    "콜라의 개수가 0이 되면  break 를 통해  \n",
    "While 반복문을 빠져나가 도록 만들어 보겠습니다."
   ]
  },
  {
   "cell_type": "code",
   "execution_count": 58,
   "metadata": {},
   "outputs": [
    {
     "name": "stdout",
     "output_type": "stream",
     "text": [
      "콜라를 줍니다\n",
      "콜라를 줍니다\n",
      "콜라를 줍니다\n",
      "콜라를 줍니다\n",
      "콜라를 줍니다\n",
      "콜라가 다 떨어졌습니다.\n"
     ]
    }
   ],
   "source": [
    "coke = 5\n",
    "\n",
    "while True:\n",
    "    print('콜라를 줍니다')\n",
    "    coke = coke - 1\n",
    "    \n",
    "    if coke == 0:\n",
    "        print('콜라가 다 떨어졌습니다.')\n",
    "        break    "
   ]
  },
  {
   "cell_type": "markdown",
   "metadata": {},
   "source": [
    "**while문 심화**"
   ]
  },
  {
   "cell_type": "markdown",
   "metadata": {},
   "source": [
    "자 요번에는 While  문 심화 입니다.  \n",
    "10개의 700원짜리 콜라가 있는 자판기에서 5000원의 돈으로 최대한 많이 콜라를 뽑아보겠습니다.  \n",
    "  \n",
    "+ 조건:\n",
    "    + 무한 루프 `while True:` 사용\n",
    "    + 콜라가 다 떨어졌을 때에는 `'콜라가 다 떨어졌습니다.'` 라고 출력하기\n",
    "    + 돈이 부족할 때에는 `'돈이 부족합니다'` 와 `'남은 콜라는 ㅇㅇ개 입니다'` 출력하기\n",
    "    + 콜라가 다 떨어지거나 돈이 부족하여 끝날시에는 `'거스름돈은 ㅇㅇㅇ원 입니다'` 라고 출력하기 "
   ]
  },
  {
   "cell_type": "code",
   "execution_count": 59,
   "metadata": {},
   "outputs": [
    {
     "name": "stdout",
     "output_type": "stream",
     "text": [
      "콜라를 줍니다.\n",
      "콜라를 줍니다.\n",
      "콜라를 줍니다.\n",
      "콜라를 줍니다.\n",
      "콜라를 줍니다.\n",
      "콜라를 줍니다.\n",
      "콜라를 줍니다.\n",
      "거스름 돈은 100 입니다. 돈이 부족합니다\n",
      "남은 콜라는 3 개 입니다.\n"
     ]
    }
   ],
   "source": [
    "coke = 10  \n",
    "money = 5000\n",
    "\n",
    "while True:\n",
    "    if money == 700:\n",
    "        print(\"콜라를 줍니다. 거스름 돈은 0원 입니다\")\n",
    "        coke = coke -1\n",
    "        money -= 700 # -= 설명 \n",
    "    elif money > 700:\n",
    "        print(\"콜라를 줍니다.\")\n",
    "        coke = coke -1\n",
    "        money -= 700\n",
    "    else:\n",
    "        print(\"거스름 돈은\",money,\"입니다.\", \"돈이 부족합니다\")\n",
    "        print(\"남은 콜라는\" ,coke,\"개 입니다.\")\n",
    "        break\n",
    "    if coke == 0:\n",
    "        print(\"거스름 돈은\",money-700,\"입니다\",\"콜라가 다 떨어졌습니다.\")\n",
    "        print(\"판매를 중지 합니다.\")\n",
    "        break"
   ]
  }
 ],
 "metadata": {
  "kernelspec": {
   "display_name": "Python 3",
   "language": "python",
   "name": "python3"
  },
  "language_info": {
   "codemirror_mode": {
    "name": "ipython",
    "version": 3
   },
   "file_extension": ".py",
   "mimetype": "text/x-python",
   "name": "python",
   "nbconvert_exporter": "python",
   "pygments_lexer": "ipython3",
   "version": "3.6.9"
  }
 },
 "nbformat": 4,
 "nbformat_minor": 2
}
